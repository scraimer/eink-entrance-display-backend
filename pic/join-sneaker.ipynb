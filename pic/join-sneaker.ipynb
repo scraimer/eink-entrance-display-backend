{
 "cells": [
  {
   "cell_type": "code",
   "execution_count": 10,
   "id": "b489b275-b11e-4526-af9f-acd3dcda2d8e",
   "metadata": {},
   "outputs": [
    {
     "data": {
      "image/png": "[encoded data removed]",
      "text/plain": [
       "<IPython.core.display.Image object>"
      ]
     },
     "metadata": {},
     "output_type": "display_data"
    },
    {
     "data": {
      "image/png": "[encoded data removed]",
      "text/plain": [
       "<IPython.core.display.Image object>"
      ]
     },
     "metadata": {},
     "output_type": "display_data"
    },
    {
     "data": {
      "image/png": "[encoded data removed]",
      "text/plain": [
       "<PIL.Image.Image image mode=RGB size=100x100 at 0xB06170F0>"
      ]
     },
     "metadata": {},
     "output_type": "display_data"
    }
   ],
   "source": [
    "from PIL import Image, ImageDraw, ImageFont, ImageFilter, ImageColor, ImageMath, ImageOps\n",
    "import os\n",
    "\n",
    "width=100\n",
    "height=100\n",
    "\n",
    "red_image = Image.new('1', (width, height), 255)  # 255: clear the frame\n",
    "red_draw = ImageDraw.Draw(red_image)\n",
    "with Image.open(\"sneaker-red.png\") as im:\n",
    "    red_image.paste(im, (0,0))\n",
    "black_image = Image.new('1', (width, height), 255)  # 255: clear the frame\n",
    "black_draw = ImageDraw.Draw(black_image)\n",
    "with Image.open(\"sneaker-black.png\") as im:\n",
    "    black_image.paste(im, (0,0))\n",
    "\n",
    "def join_image(source_red:Image, source_black:Image):\n",
    "    red_rgb = ImageMath.eval(\"convert(a,'RGB')\", a=source_red)\n",
    "    red_mask, _, _ = red_rgb.split()\n",
    "    red_inverted = ImageOps.invert(red_rgb)\n",
    "    red_r,red_g,red_b = red_inverted.split()\n",
    "    #zero = ImageMath.eval(\"convert(band ^ band,'L')\", band=red_g)\n",
    "\n",
    "    black_r, black_g, black_b = (ImageMath.eval(\"convert(img,'RGB')\", img=source_black)).split()\n",
    "\n",
    "    out_r = ImageMath.eval(\"convert(red | black, 'L')\", red=red_r, black=black_r, red_mask=red_mask)\n",
    "    out_b = ImageMath.eval(\"convert((black & red_mask), 'L')\", red=red_b, black=black_b, red_mask=red_mask)\n",
    "    out_g = ImageMath.eval(\"convert((black & red_mask), 'L')\", red=red_g, black=black_g, red_mask=red_mask)\n",
    "\n",
    "    out = Image.merge(\"RGB\", (out_r,out_b,out_g))\n",
    "    return out\n",
    "image = join_image(source_red=red_image, source_black=black_image)\n",
    "\n",
    "from IPython import display\n",
    "display.display(display.Image(filename='sneaker-red.png'))\n",
    "display.display(display.Image(filename='sneaker-black.png'))\n",
    "display.display(image)"
   ]
  }
 ],
 "metadata": {
  "kernelspec": {
   "display_name": "Python 3",
   "language": "python",
   "name": "python3"
  },
  "language_info": {
   "codemirror_mode": {
    "name": "ipython",
    "version": 3
   },
   "file_extension": ".py",
   "mimetype": "text/x-python",
   "name": "python",
   "nbconvert_exporter": "python",
   "pygments_lexer": "ipython3",
   "version": "3.7.3"
  }
 },
 "nbformat": 4,
 "nbformat_minor": 5
}
